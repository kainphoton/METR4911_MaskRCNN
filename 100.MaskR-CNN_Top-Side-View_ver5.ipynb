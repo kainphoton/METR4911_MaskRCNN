{
 "cells": [
  {
   "cell_type": "markdown",
   "metadata": {},
   "source": [
    "# 0. Import Modules and setup parameters"
   ]
  },
  {
   "cell_type": "code",
   "execution_count": 3,
   "metadata": {},
   "outputs": [
    {
     "name": "stdout",
     "output_type": "stream",
     "text": [
      "C:\\Users\\Hai\\Documents\\UQ\\UQ 2022 - Sixth Year\\METR4911_ML_Python\\MaskRCNN-Notebook\n"
     ]
    }
   ],
   "source": [
    "import cv2, os\n",
    "import numpy as np\n",
    "import math as m\n",
    "from matplotlib import pyplot as plt\n",
    "%matplotlib inline\n",
    "print(os.getcwd())"
   ]
  },
  {
   "cell_type": "code",
   "execution_count": null,
   "metadata": {},
   "outputs": [],
   "source": [
    "########################### Fruit/Vegetable/Object Parameters ###########################\n",
    "# coco_labels.txt, Labels for fruit/vegetable (6 labels) \n",
    "LABELS = {0: \"Person\", 51: \"Banana\", 52: \"Apple\", 54: \"Orange\", 55: \"Broccoli\", 56: \"Carrot\"}\n",
    "\n",
    "# Color in BGR in CV2 not RGB, match color with object's color\n",
    "COLORS = {\"Person\": (179,179,255), \"Banana\": (72,216,255), \"Apple\": (0,8,255), \n",
    "         \"Carrot\": (33,145,237), \"Orange\": (0,126,255), \"Broccoli\": (0,255,74)}\n",
    "\n",
    "# Adjust the volume cm3 based on shape of item (need to update from testing the mass obtained vs real life mass)\n",
    "ITEM_VOLUME_ADJUSTMENT = {\"Banana\": 1.0, \"Apple\": 1.0, \"Carrot\": 1.0, \"Orange\": 1.0, \"Broccoli\": 1.0}\n",
    "\n",
    "# Shape Category\n",
    "SPHERE_SHAPE = ['Apple', 'Orange']\n",
    "BANANA_SHAPE = ['Banana']\n",
    "CARROT_SHAPE = ['Carrot']\n",
    "BROCCOLI_SHAPE = ['Broccoli']\n",
    "\n",
    "# Density (g/cm3) [Refer to excel sheet]\n",
    "APPLE_DENSITY = 0.53\n",
    "BANANA_DENSITY = 0.63\n",
    "ORANGE_DENSITY = 0.76\n",
    "# CARROT_DENSITY = 1   # TODO: need to find out\n",
    "# BROCCOLI_DENSITY = 1 # TODO: need to find out\n",
    "\n",
    "# Calories per gram\n",
    "APPLE_CONVERT_TO_CALORIE = 52 / 100        # 52 calorie per 100 g\n",
    "BANANA_CONVERT_TO_CALORIE = 89 / 100       # 89 calorie per 100 g\n",
    "ORANGE_CONVERT_TO_CALORIE = 47 / 100       # 47 calorie per 100 g\n",
    "CARROT_CONVERT_TO_CALORIE = 41 / 100       # 41 calorie per 100 g\n",
    "BROCCOLI_CONVERT_TO_CALORIE = 34 / 100     # 34 calorie per 100 g\n",
    "\n",
    "# Finger Size (cm)\n",
    "INDEX_FINGER_WIDTH = 1.48    # 14.8mm\n",
    "INDEX_FINGER_HEIGHT = 1.185  # 11.85mm\n",
    "\n",
    "# Object Detect Mask and Score Threshold\n",
    "MASK_THRESHOLD = 0.65\n",
    "SCORE_THRESHOLD = 0.5\n",
    "\n",
    "########################### Window Parameters ###########################\n",
    "# Input Resize Image\n",
    "IMG_WIDTH, IMG_HEIGHT  = (640, 480)\n",
    "\n",
    "#define plot size for all plots\n",
    "plt.rcParams['figure.figsize'] = [6.4*1.75, 4.8*1.75]"
   ]
  },
  {
   "cell_type": "code",
   "execution_count": null,
   "metadata": {},
   "outputs": [],
   "source": []
  },
  {
   "cell_type": "code",
   "execution_count": null,
   "metadata": {},
   "outputs": [],
   "source": []
  },
  {
   "cell_type": "code",
   "execution_count": null,
   "metadata": {},
   "outputs": [],
   "source": []
  },
  {
   "cell_type": "code",
   "execution_count": null,
   "metadata": {},
   "outputs": [],
   "source": []
  },
  {
   "cell_type": "code",
   "execution_count": null,
   "metadata": {},
   "outputs": [],
   "source": []
  }
 ],
 "metadata": {
  "kernelspec": {
   "display_name": "tfod",
   "language": "python",
   "name": "tfod"
  },
  "language_info": {
   "codemirror_mode": {
    "name": "ipython",
    "version": 3
   },
   "file_extension": ".py",
   "mimetype": "text/x-python",
   "name": "python",
   "nbconvert_exporter": "python",
   "pygments_lexer": "ipython3",
   "version": "3.8.8"
  }
 },
 "nbformat": 4,
 "nbformat_minor": 4
}
